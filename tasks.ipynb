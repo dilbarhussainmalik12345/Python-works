{
 "cells": [
  {
   "cell_type": "code",
   "execution_count": 9,
   "id": "2cffaa29",
   "metadata": {},
   "outputs": [
    {
     "name": "stdout",
     "output_type": "stream",
     "text": [
      "Enter Num5\n",
      "True\n"
     ]
    }
   ],
   "source": [
    "val = int(input(\"Enter Num\"))\n",
    "if(val == 5):\n",
    "    print(\"True\")\n",
    "else:\n",
    "    print(\"False\")\n"
   ]
  },
  {
   "cell_type": "code",
   "execution_count": 10,
   "id": "9daa785c",
   "metadata": {},
   "outputs": [
    {
     "name": "stdout",
     "output_type": "stream",
     "text": [
      "3\n"
     ]
    }
   ],
   "source": [
    "num = 3\n",
    "num2 = 3\n",
    "num == num2\n",
    "print(num)"
   ]
  },
  {
   "cell_type": "code",
   "execution_count": 18,
   "id": "57aa266b",
   "metadata": {},
   "outputs": [
    {
     "name": "stdout",
     "output_type": "stream",
     "text": [
      "Please enter U age 10\n",
      "Not\n"
     ]
    }
   ],
   "source": [
    "age = int(input(\"Please enter U age \"))\n",
    "\n",
    "if(age == 13):\n",
    "    print(\"Teenager\")\n",
    "elif(age == 19):\n",
    "    print(\"Teenagre\")\n",
    "else:\n",
    "    print(\"Not\")\n"
   ]
  },
  {
   "cell_type": "code",
   "execution_count": 19,
   "id": "b5f23090",
   "metadata": {},
   "outputs": [
    {
     "ename": "SyntaxError",
     "evalue": "EOL while scanning string literal (2062500438.py, line 7)",
     "output_type": "error",
     "traceback": [
      "\u001b[1;36m  Input \u001b[1;32mIn [19]\u001b[1;36m\u001b[0m\n\u001b[1;33m    else: print(\"\\nIt is not an alphabet!\u001b[0m\n\u001b[1;37m                                         ^\u001b[0m\n\u001b[1;31mSyntaxError\u001b[0m\u001b[1;31m:\u001b[0m EOL while scanning string literal\n"
     ]
    }
   ],
   "source": [
    "print(\"Enter a Character: \") \n",
    "c = input() \n",
    "if c>='a' and c<='z':\n",
    "    print(\"\\nIt is an alphabet\") \n",
    "elif c>='A' and c<='z':\n",
    "    print(\"\\nIt is an alphabet\") \n",
    "else: print(\"\\nIt is not an alphabet!"
   ]
  },
  {
   "cell_type": "code",
   "execution_count": 21,
   "id": "5f8ba9e1",
   "metadata": {},
   "outputs": [
    {
     "data": {
      "text/plain": [
       "<function list.index(value, start=0, stop=9223372036854775807, /)>"
      ]
     },
     "execution_count": 21,
     "metadata": {},
     "output_type": "execute_result"
    }
   ],
   "source": [
    "lis_1 = ['Sun', 'Mon', 'tue','wed']\n",
    "lis_1.index\n",
    "print(index, lis_1)"
   ]
  },
  {
   "cell_type": "code",
   "execution_count": 26,
   "id": "63481137",
   "metadata": {},
   "outputs": [
    {
     "name": "stdout",
     "output_type": "stream",
     "text": [
      "1\n"
     ]
    }
   ],
   "source": [
    "txt = \"I am student of BBA\"\n",
    "\n",
    "x = txt.count(\"I am student of BBA\")\n",
    "\n",
    "print(x)\n"
   ]
  },
  {
   "cell_type": "code",
   "execution_count": 27,
   "id": "2d5b8128",
   "metadata": {},
   "outputs": [
    {
     "name": "stdout",
     "output_type": "stream",
     "text": [
      " Please Enter the Actual Product Price: 1000.25\n",
      " Please Enter the Sales Amount: 2000.2345\n",
      "Total Profit = 999.9845\n"
     ]
    }
   ],
   "source": [
    "#profit and loss\n",
    "a = 1000\n",
    "b = 3000\n",
    "# Python Program to Calculate Profit or Loss\n",
    " \n",
    "actual_cost = float(input(\" Please Enter the Actual Product Price: \"))\n",
    "sale_amount = float(input(\" Please Enter the Sales Amount: \"))\n",
    " \n",
    "if(actual_cost > sale_amount):\n",
    "    amount = actual_cost - sale_amount\n",
    "    print(\"Total Loss Amount = {0}\".format(amount))\n",
    "elif(sale_amount > actual_cost):\n",
    "    amount = sale_amount - actual_cost\n",
    "    print(\"Total Profit = {0}\".format(amount))\n",
    "else:\n",
    "    print(\"No Profit No Loss!!!\")"
   ]
  },
  {
   "cell_type": "code",
   "execution_count": null,
   "id": "200dd9d3",
   "metadata": {},
   "outputs": [],
   "source": []
  }
 ],
 "metadata": {
  "kernelspec": {
   "display_name": "Python 3 (ipykernel)",
   "language": "python",
   "name": "python3"
  },
  "language_info": {
   "codemirror_mode": {
    "name": "ipython",
    "version": 3
   },
   "file_extension": ".py",
   "mimetype": "text/x-python",
   "name": "python",
   "nbconvert_exporter": "python",
   "pygments_lexer": "ipython3",
   "version": "3.9.12"
  }
 },
 "nbformat": 4,
 "nbformat_minor": 5
}
