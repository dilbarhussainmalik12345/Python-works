{
 "cells": [
  {
   "cell_type": "code",
   "execution_count": 1,
   "id": "3072d453",
   "metadata": {},
   "outputs": [
    {
     "name": "stdout",
     "output_type": "stream",
     "text": [
      "20\n"
     ]
    }
   ],
   "source": [
    "a = \"Sukkur IBA Uniersity\"\n",
    "print(len(a))\n"
   ]
  },
  {
   "cell_type": "code",
   "execution_count": 2,
   "id": "81bf707f",
   "metadata": {},
   "outputs": [
    {
     "name": "stdout",
     "output_type": "stream",
     "text": [
      "True\n"
     ]
    }
   ],
   "source": [
    "sentence = \"Dilbar is the Student of Computer Science At SIBAUKK\"\n",
    "print(\"Student\" in sentence)\n"
   ]
  },
  {
   "cell_type": "code",
   "execution_count": 8,
   "id": "4bed9b0f",
   "metadata": {},
   "outputs": [
    {
     "name": "stdout",
     "output_type": "stream",
     "text": [
      "Yes, Dilbar is Student of Computer Science At Sukkur IBA\n"
     ]
    }
   ],
   "source": [
    "value = \"Dilbar is Student of Computer Science At Sukkur IBA\"\n",
    "if \"Student\" in value:\n",
    "    print(\"Yes, Dilbar is Student of Computer Science At Sukkur IBA\")\n",
    "    "
   ]
  },
  {
   "cell_type": "code",
   "execution_count": 11,
   "id": "d97f54bf",
   "metadata": {},
   "outputs": [
    {
     "name": "stdout",
     "output_type": "stream",
     "text": [
      "No, Boy Word in not present in the above line\n"
     ]
    }
   ],
   "source": [
    "value = \"Dilbar is Student of Computer Science At Sukkur IBA\"\n",
    "if \"Boy\" not in value:\n",
    "    print(\"No, Boy Word in not present in the above line\")"
   ]
  },
  {
   "cell_type": "code",
   "execution_count": null,
   "id": "966b967a",
   "metadata": {},
   "outputs": [],
   "source": []
  }
 ],
 "metadata": {
  "kernelspec": {
   "display_name": "Python 3",
   "language": "python",
   "name": "python3"
  },
  "language_info": {
   "codemirror_mode": {
    "name": "ipython",
    "version": 3
   },
   "file_extension": ".py",
   "mimetype": "text/x-python",
   "name": "python",
   "nbconvert_exporter": "python",
   "pygments_lexer": "ipython3",
   "version": "3.8.8"
  }
 },
 "nbformat": 4,
 "nbformat_minor": 5
}
