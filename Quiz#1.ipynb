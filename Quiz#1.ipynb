{
 "cells": [
  {
   "cell_type": "code",
   "execution_count": 1,
   "id": "78f6837e",
   "metadata": {},
   "outputs": [],
   "source": [
    "import numpy as np\n",
    "x = [1,2,3]"
   ]
  },
  {
   "cell_type": "code",
   "execution_count": 2,
   "id": "89773c8b",
   "metadata": {},
   "outputs": [],
   "source": [
    "y = [2,4,6]"
   ]
  },
  {
   "cell_type": "code",
   "execution_count": 3,
   "id": "a4b3989a",
   "metadata": {},
   "outputs": [],
   "source": [
    "z = [1,3,5]"
   ]
  },
  {
   "cell_type": "code",
   "execution_count": 4,
   "id": "4055573b",
   "metadata": {},
   "outputs": [],
   "source": [
    "a = np.array(x[0] + x[1] + x[2])"
   ]
  },
  {
   "cell_type": "code",
   "execution_count": 5,
   "id": "f8ee9b28",
   "metadata": {},
   "outputs": [
    {
     "name": "stdout",
     "output_type": "stream",
     "text": [
      "6\n"
     ]
    }
   ],
   "source": [
    "print(a)"
   ]
  },
  {
   "cell_type": "code",
   "execution_count": 8,
   "id": "22c02c70",
   "metadata": {},
   "outputs": [],
   "source": [
    "b = np.array(y[0] + y[1] + y[2])"
   ]
  },
  {
   "cell_type": "code",
   "execution_count": 9,
   "id": "2c62fc21",
   "metadata": {},
   "outputs": [
    {
     "name": "stdout",
     "output_type": "stream",
     "text": [
      "12\n"
     ]
    }
   ],
   "source": [
    "print(b)"
   ]
  },
  {
   "cell_type": "code",
   "execution_count": 10,
   "id": "0aa596cb",
   "metadata": {},
   "outputs": [],
   "source": [
    "c = a*b"
   ]
  },
  {
   "cell_type": "code",
   "execution_count": 11,
   "id": "9ba04bf1",
   "metadata": {},
   "outputs": [
    {
     "name": "stdout",
     "output_type": "stream",
     "text": [
      "72\n"
     ]
    }
   ],
   "source": [
    "print(c)"
   ]
  },
  {
   "cell_type": "code",
   "execution_count": 13,
   "id": "0eadf4e7",
   "metadata": {},
   "outputs": [],
   "source": [
    "e = np.array(z[0] + z[1] + z[2])"
   ]
  },
  {
   "cell_type": "code",
   "execution_count": 14,
   "id": "c32d1238",
   "metadata": {},
   "outputs": [
    {
     "name": "stdout",
     "output_type": "stream",
     "text": [
      "9\n"
     ]
    }
   ],
   "source": [
    "print(e)"
   ]
  },
  {
   "cell_type": "code",
   "execution_count": 15,
   "id": "5698b59a",
   "metadata": {},
   "outputs": [],
   "source": [
    "f = e*c"
   ]
  },
  {
   "cell_type": "code",
   "execution_count": 16,
   "id": "806c7210",
   "metadata": {},
   "outputs": [
    {
     "name": "stdout",
     "output_type": "stream",
     "text": [
      "648\n"
     ]
    }
   ],
   "source": [
    "print(f)"
   ]
  },
  {
   "cell_type": "code",
   "execution_count": null,
   "id": "86055593",
   "metadata": {},
   "outputs": [],
   "source": []
  }
 ],
 "metadata": {
  "kernelspec": {
   "display_name": "Python 3 (ipykernel)",
   "language": "python",
   "name": "python3"
  },
  "language_info": {
   "codemirror_mode": {
    "name": "ipython",
    "version": 3
   },
   "file_extension": ".py",
   "mimetype": "text/x-python",
   "name": "python",
   "nbconvert_exporter": "python",
   "pygments_lexer": "ipython3",
   "version": "3.9.12"
  }
 },
 "nbformat": 4,
 "nbformat_minor": 5
}
