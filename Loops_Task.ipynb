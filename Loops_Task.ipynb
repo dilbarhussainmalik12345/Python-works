{
 "cells": [
  {
   "cell_type": "code",
   "execution_count": 3,
   "id": "29d99c8e",
   "metadata": {},
   "outputs": [
    {
     "name": "stdout",
     "output_type": "stream",
     "text": [
      "Dog\n",
      "Buffalo\n",
      "Cow\n",
      "Cat\n"
     ]
    }
   ],
   "source": [
    "#loops\n",
    "animals = ['Dog', 'Buffalo', 'Cow', 'Cat']\n",
    "for animal in animals:\n",
    "    print(animal)"
   ]
  },
  {
   "cell_type": "code",
   "execution_count": 4,
   "id": "e6235cd4",
   "metadata": {},
   "outputs": [
    {
     "name": "stdout",
     "output_type": "stream",
     "text": [
      "0\n",
      "1\n",
      "2\n",
      "3\n",
      "4\n"
     ]
    }
   ],
   "source": [
    "#loops in  range\n",
    "numbers = range(5)\n",
    "\n",
    "for i in numbers:\n",
    "    print(i)\n"
   ]
  },
  {
   "cell_type": "code",
   "execution_count": 6,
   "id": "1ebeb74e",
   "metadata": {},
   "outputs": [
    {
     "name": "stdout",
     "output_type": "stream",
     "text": [
      "0\n",
      "1\n",
      "2\n",
      "3\n",
      "4\n",
      "5\n",
      "No limits left\n"
     ]
    }
   ],
   "source": [
    "#loop with else\n",
    "digits = [0,1,2,3,4,5]\n",
    "for i in digits:\n",
    "    print(i)\n",
    "else:\n",
    "    print(\"No limits left\")"
   ]
  },
  {
   "cell_type": "code",
   "execution_count": 9,
   "id": "61bd91f4",
   "metadata": {},
   "outputs": [
    {
     "name": "stdout",
     "output_type": "stream",
     "text": [
      "1\n",
      "2\n",
      "3\n",
      "4\n",
      "5\n",
      "6\n",
      "7\n",
      "8\n",
      "9\n",
      "10\n"
     ]
    }
   ],
   "source": [
    "#while loop\n",
    "#initialize\n",
    "i = 1\n",
    "n = 10\n",
    "\n",
    "while i <= n:\n",
    "    print(i)\n",
    "    i = i+1"
   ]
  },
  {
   "cell_type": "code",
   "execution_count": 10,
   "id": "5c5a5eaf",
   "metadata": {},
   "outputs": [
    {
     "name": "stdout",
     "output_type": "stream",
     "text": [
      "Please enter number: 2\n",
      "Please enter number: 3\n",
      "Please enter number: 4\n",
      "Please enter number: 5\n",
      "Please enter number: 6\n",
      "Please enter number: 7\n",
      "Please enter number: 10\n",
      "Please enter number: 11\n",
      "Please enter number: 100\n",
      "Please enter number: 0\n",
      "Total:-->  148\n"
     ]
    }
   ],
   "source": [
    "#Program to calculate the sum of numbers\n",
    "#until user inputs 0\n",
    "total = 0\n",
    "number = int(input(\"Please enter number: \"))\n",
    "\n",
    "while number != 0:\n",
    "    total += number\n",
    "    \n",
    "    number = int(input(\"Please enter number: \"))\n",
    "    \n",
    "print(\"Total:--> \", total)"
   ]
  },
  {
   "cell_type": "code",
   "execution_count": null,
   "id": "0cfe3ecd",
   "metadata": {},
   "outputs": [],
   "source": []
  }
 ],
 "metadata": {
  "kernelspec": {
   "display_name": "Python 3 (ipykernel)",
   "language": "python",
   "name": "python3"
  },
  "language_info": {
   "codemirror_mode": {
    "name": "ipython",
    "version": 3
   },
   "file_extension": ".py",
   "mimetype": "text/x-python",
   "name": "python",
   "nbconvert_exporter": "python",
   "pygments_lexer": "ipython3",
   "version": "3.9.12"
  }
 },
 "nbformat": 4,
 "nbformat_minor": 5
}
