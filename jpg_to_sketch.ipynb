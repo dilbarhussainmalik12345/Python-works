{
 "cells": [
  {
   "cell_type": "code",
   "execution_count": 6,
   "id": "1f2e3b14",
   "metadata": {},
   "outputs": [
    {
     "data": {
      "text/plain": [
       "True"
      ]
     },
     "execution_count": 6,
     "metadata": {},
     "output_type": "execute_result"
    }
   ],
   "source": [
    "import cv2\n",
    "\n",
    "# Load the image\n",
    "img = cv2.imread('C:\\\\python\\\\qamar.JPG')\n",
    "\n",
    "# Convert the image to grayscale\n",
    "gray_image = cv2.cvtColor(img, cv2.COLOR_BGR2GRAY)\n",
    "\n",
    "# Invert the grayscale image\n",
    "inverted_image = 255 - gray_image\n",
    "\n",
    "# Blur the inverted image using a Gaussian filter\n",
    "blurred_image = cv2.GaussianBlur(inverted_image, (21, 21), 0)\n",
    "\n",
    "# Blend the grayscale image with the blurred inverted image\n",
    "sketch_image = cv2.divide(gray_image, 255 - blurred_image, scale=256)\n",
    "\n",
    "# Save the sketch image\n",
    "cv2.imwrite('C:\\\\python\\\\new_qamar.JPG' ,sketch_image)"
   ]
  },
  {
   "cell_type": "code",
   "execution_count": 22,
   "id": "f3e59824",
   "metadata": {},
   "outputs": [],
   "source": [
    "import cv2\n",
    "image = cv2.imread('C:\\\\python\\\\qamar.JPG')"
   ]
  },
  {
   "cell_type": "code",
   "execution_count": 23,
   "id": "ddce9f3d",
   "metadata": {},
   "outputs": [],
   "source": [
    "img = cv2.cvtColor(image, cv2.COLOR_BGR2GRAY)"
   ]
  },
  {
   "cell_type": "code",
   "execution_count": 24,
   "id": "6012d2c3",
   "metadata": {},
   "outputs": [],
   "source": [
    "inverted_img = 255 - img"
   ]
  },
  {
   "cell_type": "code",
   "execution_count": 25,
   "id": "266d23bb",
   "metadata": {},
   "outputs": [],
   "source": [
    "blurd_image = cv2.GaussianBlur(inverted_image, (21,21), 0)"
   ]
  },
  {
   "cell_type": "code",
   "execution_count": 26,
   "id": "96e192a5",
   "metadata": {},
   "outputs": [],
   "source": [
    "sketch_img = cv2.divide(gray_image, 255 - blurd_image, scale = 256)"
   ]
  },
  {
   "cell_type": "code",
   "execution_count": 27,
   "id": "1266bec2",
   "metadata": {},
   "outputs": [
    {
     "data": {
      "text/plain": [
       "True"
      ]
     },
     "execution_count": 27,
     "metadata": {},
     "output_type": "execute_result"
    }
   ],
   "source": [
    "#Save sketch\n",
    "cv2.imwrite('C:\\\\python\\\\new_qamar.JPG', sketch_image)"
   ]
  },
  {
   "cell_type": "code",
   "execution_count": null,
   "id": "844d7a16",
   "metadata": {},
   "outputs": [],
   "source": []
  },
  {
   "cell_type": "code",
   "execution_count": null,
   "id": "eb12e404",
   "metadata": {},
   "outputs": [],
   "source": []
  }
 ],
 "metadata": {
  "kernelspec": {
   "display_name": "Python 3 (ipykernel)",
   "language": "python",
   "name": "python3"
  },
  "language_info": {
   "codemirror_mode": {
    "name": "ipython",
    "version": 3
   },
   "file_extension": ".py",
   "mimetype": "text/x-python",
   "name": "python",
   "nbconvert_exporter": "python",
   "pygments_lexer": "ipython3",
   "version": "3.9.13"
  }
 },
 "nbformat": 4,
 "nbformat_minor": 5
}
