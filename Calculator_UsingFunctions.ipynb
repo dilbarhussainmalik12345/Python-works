{
 "cells": [
  {
   "cell_type": "code",
   "execution_count": 29,
   "id": "949a7383",
   "metadata": {},
   "outputs": [
    {
     "name": "stdout",
     "output_type": "stream",
     "text": [
      "Sum:  12\n",
      "Multiply:  100\n",
      "Divide:  2.0\n",
      "Subtract:  1\n"
     ]
    }
   ],
   "source": [
    "#num = 10\n",
    "#val = 2\n",
    "#Sum Function\n",
    "def sum(val, num):\n",
    "    return val+num\n",
    "print(\"Sum: \",sum(10,2))\n",
    "\n",
    "\n",
    "#Multiplz Function\n",
    "def multi(a, b):\n",
    "    return a*b\n",
    "print(\"Multiply: \", multi(10,10))\n",
    "\n",
    "\n",
    "#Divide Function\n",
    "def divide(c, d):\n",
    "    return c/d\n",
    "print(\"Divide: \", divide(10, 5))\n",
    "\n",
    "\n",
    "#Subtract\n",
    "def sub(e,f):\n",
    "    return e-f\n",
    "print(\"Subtract: \", sub(10, 9))\n"
   ]
  },
  {
   "cell_type": "code",
   "execution_count": 24,
   "id": "a375bd65",
   "metadata": {},
   "outputs": [
    {
     "name": "stdout",
     "output_type": "stream",
     "text": [
      "12\n"
     ]
    }
   ],
   "source": [
    "\n"
   ]
  },
  {
   "cell_type": "code",
   "execution_count": null,
   "id": "b42c38f2",
   "metadata": {},
   "outputs": [],
   "source": []
  },
  {
   "cell_type": "code",
   "execution_count": null,
   "id": "cfee7e45",
   "metadata": {},
   "outputs": [],
   "source": []
  }
 ],
 "metadata": {
  "kernelspec": {
   "display_name": "Python 3 (ipykernel)",
   "language": "python",
   "name": "python3"
  },
  "language_info": {
   "codemirror_mode": {
    "name": "ipython",
    "version": 3
   },
   "file_extension": ".py",
   "mimetype": "text/x-python",
   "name": "python",
   "nbconvert_exporter": "python",
   "pygments_lexer": "ipython3",
   "version": "3.9.12"
  }
 },
 "nbformat": 4,
 "nbformat_minor": 5
}
