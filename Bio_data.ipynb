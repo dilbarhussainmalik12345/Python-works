{
 "cells": [
  {
   "cell_type": "code",
   "execution_count": 3,
   "id": "788425ca",
   "metadata": {},
   "outputs": [
    {
     "name": "stdout",
     "output_type": "stream",
     "text": [
      "Please Enter Name Dilbar Hussain\n",
      "Please Enter Depart Computer Science\n",
      "Please Enter Your Age: 19\n",
      "Please Enter Semester: BSCS_vi\n",
      "Please Enter batch: \n",
      "\n",
      "\n",
      "2020\n",
      "Name:  Dilbar Hussain\n",
      "Depart:  Computer Science\n",
      "Age:  19\n",
      "Semester:  BSCS_vi\n",
      "Batch:  2020\n"
     ]
    }
   ],
   "source": [
    "#Bio-Data\n",
    "nam = input(\"Please Enter Name \")\n",
    "dept = input(\"Please Enter Depart \")\n",
    "age = int(input(\"Please Enter Your Age: \"))\n",
    "semtr = input(\"Please Enter Semester: \")\n",
    "batch = int(input(\"Please Enter batch:\"))\n",
    "\n",
    "print(\"\\n\\n\\n\\n\")\n",
    "\n",
    "print(\"Name: \", nam)\n",
    "print(\"Depart: \", dept)\n",
    "print(\"Age: \", age)\n",
    "print(\"Semester: \", semtr)\n",
    "print(\"Batch: \", batch)"
   ]
  },
  {
   "cell_type": "code",
   "execution_count": null,
   "id": "a15b54e7",
   "metadata": {},
   "outputs": [],
   "source": []
  }
 ],
 "metadata": {
  "kernelspec": {
   "display_name": "Python 3 (ipykernel)",
   "language": "python",
   "name": "python3"
  },
  "language_info": {
   "codemirror_mode": {
    "name": "ipython",
    "version": 3
   },
   "file_extension": ".py",
   "mimetype": "text/x-python",
   "name": "python",
   "nbconvert_exporter": "python",
   "pygments_lexer": "ipython3",
   "version": "3.9.12"
  }
 },
 "nbformat": 4,
 "nbformat_minor": 5
}
