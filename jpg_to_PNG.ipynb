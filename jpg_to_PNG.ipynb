{
 "cells": [
  {
   "cell_type": "code",
   "execution_count": 3,
   "id": "8b0337c1",
   "metadata": {},
   "outputs": [],
   "source": [
    "from PIL import Image"
   ]
  },
  {
   "cell_type": "code",
   "execution_count": 4,
   "id": "b17b29af",
   "metadata": {},
   "outputs": [],
   "source": [
    "img = Image.open('C:\\\\python\\\\qamar.JPG')"
   ]
  },
  {
   "cell_type": "code",
   "execution_count": null,
   "id": "fe36f8b0",
   "metadata": {},
   "outputs": [],
   "source": [
    "img = Image.save('C:\\\\python\\\\newqamar.JPG')"
   ]
  }
 ],
 "metadata": {
  "kernelspec": {
   "display_name": "Python 3 (ipykernel)",
   "language": "python",
   "name": "python3"
  },
  "language_info": {
   "codemirror_mode": {
    "name": "ipython",
    "version": 3
   },
   "file_extension": ".py",
   "mimetype": "text/x-python",
   "name": "python",
   "nbconvert_exporter": "python",
   "pygments_lexer": "ipython3",
   "version": "3.9.13"
  }
 },
 "nbformat": 4,
 "nbformat_minor": 5
}
