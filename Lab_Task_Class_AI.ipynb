{
 "cells": [
  {
   "cell_type": "code",
   "execution_count": 11,
   "id": "d9872c57",
   "metadata": {},
   "outputs": [
    {
     "name": "stdout",
     "output_type": "stream",
     "text": [
      "hm\n",
      "le\n",
      "ha\n",
      "ar\n"
     ]
    }
   ],
   "source": [
    "#Numpy\n",
    "\n",
    "val = ['Ahmed', 'Ale', 'Shayan', 'sartaj']\n",
    "for vals in val:\n",
    "    #print(vals)\n",
    "    print(vals[1:3])"
   ]
  },
  {
   "cell_type": "code",
   "execution_count": 20,
   "id": "67aa3c61",
   "metadata": {},
   "outputs": [
    {
     "name": "stdout",
     "output_type": "stream",
     "text": [
      "(1, 'cat')\n",
      "(2, 'dog')\n",
      "(3, 'monkey')\n"
     ]
    }
   ],
   "source": [
    "animals = ['cat', 'dog', 'monkey']\n",
    "for idx, animal in enumerate(animals):\n",
    "    print((idx + 1, animal))"
   ]
  },
  {
   "cell_type": "code",
   "execution_count": 21,
   "id": "1a2c30f5",
   "metadata": {},
   "outputs": [
    {
     "name": "stdout",
     "output_type": "stream",
     "text": [
      "[0, 1, 4, 9, 16]\n"
     ]
    }
   ],
   "source": [
    "#list comperhension\n",
    "nums = [0,1,2,3,4]\n",
    "squ = [x ** 2 for x in nums] \n",
    "print(squ)"
   ]
  },
  {
   "cell_type": "code",
   "execution_count": 28,
   "id": "aeac5ac4",
   "metadata": {},
   "outputs": [
    {
     "name": "stdout",
     "output_type": "stream",
     "text": [
      "0\n",
      "1\n",
      "2\n",
      "3\n",
      "4\n",
      "5\n",
      "6\n",
      "7\n",
      "8\n",
      "9\n"
     ]
    }
   ],
   "source": [
    "#task\n",
    "number = range(10)\n",
    "value = 1\n",
    "for x in number:\n",
    "    value = value*x\n",
    "    print(x)"
   ]
  },
  {
   "cell_type": "code",
   "execution_count": 40,
   "id": "f806dd1f",
   "metadata": {},
   "outputs": [
    {
     "name": "stdout",
     "output_type": "stream",
     "text": [
      "List 01:  [1, 3, 4, 6, 8]\n",
      "list 02:  [4, 5, 6, 2, 10]\n",
      "Output of Both Matrix : [4, 15, 24, 12, 80]\n"
     ]
    }
   ],
   "source": [
    "\n",
    "list1 = [1, 3, 4, 6, 8]\n",
    "list2 = [4, 5, 6, 2, 10]\n",
    "\n",
    "\n",
    "print (\"List 01:  \" + str(list1))\n",
    "print (\"list 02:  \" + str(list2))\n",
    "\n",
    "\n",
    "new_list = []\n",
    "for i in range(0, len(list1)):\n",
    "\tnew_list.append(list1[i] * list2[i])\n",
    "\n",
    "\n",
    "print (\"Output of Both Matrix : \" + str(new_list))\n"
   ]
  },
  {
   "cell_type": "code",
   "execution_count": 49,
   "id": "e80f3fbe",
   "metadata": {},
   "outputs": [
    {
     "name": "stdout",
     "output_type": "stream",
     "text": [
      "[ 5  8  9 10  6]\n"
     ]
    }
   ],
   "source": [
    "#lists multiplication\n",
    "import numpy as np\n",
    "a = np.asarray([1,2,3,5,6])\n",
    "b = np.asarray([5,4,3,2,1])\n",
    "\n",
    "\n",
    "print(a*b)\n",
    "# print(\"List 01:--> \" + str(a))\n",
    "# print(\"List 02:--> \" + str(b))\n",
    "\n",
    "# newlist = []\n",
    "# for x in range(0, len(a)):\n",
    "#     newlist.append(a[x] * b[x])\n",
    "     \n",
    "# print(\"Output:--> \" + str(newlist))"
   ]
  },
  {
   "cell_type": "code",
   "execution_count": 46,
   "id": "0093e5ee",
   "metadata": {},
   "outputs": [
    {
     "ename": "TypeError",
     "evalue": "can't multiply sequence by non-int of type 'list'",
     "output_type": "error",
     "traceback": [
      "\u001b[1;31m---------------------------------------------------------------------------\u001b[0m",
      "\u001b[1;31mTypeError\u001b[0m                                 Traceback (most recent call last)",
      "Input \u001b[1;32mIn [46]\u001b[0m, in \u001b[0;36m<cell line: 1>\u001b[1;34m()\u001b[0m\n\u001b[1;32m----> 1\u001b[0m \u001b[38;5;28mprint\u001b[39m(\u001b[38;5;28mstr\u001b[39m(\u001b[43ma\u001b[49m\u001b[38;5;241;43m*\u001b[39;49m\u001b[43mb\u001b[49m))\n",
      "\u001b[1;31mTypeError\u001b[0m: can't multiply sequence by non-int of type 'list'"
     ]
    }
   ],
   "source": [
    "print()"
   ]
  },
  {
   "cell_type": "code",
   "execution_count": null,
   "id": "2b376f95",
   "metadata": {},
   "outputs": [],
   "source": []
  }
 ],
 "metadata": {
  "kernelspec": {
   "display_name": "Python 3 (ipykernel)",
   "language": "python",
   "name": "python3"
  },
  "language_info": {
   "codemirror_mode": {
    "name": "ipython",
    "version": 3
   },
   "file_extension": ".py",
   "mimetype": "text/x-python",
   "name": "python",
   "nbconvert_exporter": "python",
   "pygments_lexer": "ipython3",
   "version": "3.9.12"
  }
 },
 "nbformat": 4,
 "nbformat_minor": 5
}
