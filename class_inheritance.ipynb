{
 "cells": [
  {
   "cell_type": "code",
   "execution_count": 3,
   "id": "68ebfd30",
   "metadata": {},
   "outputs": [
    {
     "name": "stdout",
     "output_type": "stream",
     "text": [
      "Name:  {bike1.name, Gear:  bike1.gear }\n"
     ]
    }
   ],
   "source": [
    "class Bike:\n",
    "    name = \"\"\n",
    "    gear = 0\n",
    "    \n",
    "#create class object\n",
    "bike1 = Bike()\n",
    "\n",
    "#access attribute and assign new values\n",
    "bike1.gear = 11\n",
    "bike1.name = \"Racer\"\n",
    "\n",
    "print(\"Name:  {bike1.name, Gear:  bike1.gear }\")"
   ]
  },
  {
   "cell_type": "code",
   "execution_count": 8,
   "id": "3159a43d",
   "metadata": {},
   "outputs": [
    {
     "name": "stdout",
     "output_type": "stream",
     "text": [
      "I can eat\n",
      "My name is  Lebra\n"
     ]
    }
   ],
   "source": [
    "#inheritance example\n",
    "class Animal:\n",
    "    name = \"\"\n",
    "    \n",
    "    def eat(self):\n",
    "        print(\"I can eat\")\n",
    "        \n",
    "#inherit from animal\n",
    "\n",
    "class Dog(Animal):\n",
    "    \n",
    "    # access name attribute of superclass using self\n",
    "    def display(self):\n",
    "        \n",
    "        print(\"My name is \", self.name)\n",
    "        \n",
    "#creating object of sb class\n",
    "labrador = Dog()\n",
    "    # access superclass attribute and method\n",
    "    \n",
    "labrador.name = \"Lebra\"\n",
    "labrador.eat()\n",
    "    \n",
    "    #call subclass method \n",
    "labrador.display()"
   ]
  },
  {
   "cell_type": "code",
   "execution_count": null,
   "id": "b0b80e00",
   "metadata": {},
   "outputs": [],
   "source": []
  }
 ],
 "metadata": {
  "kernelspec": {
   "display_name": "Python 3 (ipykernel)",
   "language": "python",
   "name": "python3"
  },
  "language_info": {
   "codemirror_mode": {
    "name": "ipython",
    "version": 3
   },
   "file_extension": ".py",
   "mimetype": "text/x-python",
   "name": "python",
   "nbconvert_exporter": "python",
   "pygments_lexer": "ipython3",
   "version": "3.9.12"
  }
 },
 "nbformat": 4,
 "nbformat_minor": 5
}
