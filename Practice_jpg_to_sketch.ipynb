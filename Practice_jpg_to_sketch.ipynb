{
 "cells": [
  {
   "cell_type": "code",
   "execution_count": 1,
   "id": "0ae5ce40",
   "metadata": {},
   "outputs": [],
   "source": [
    "import cv2"
   ]
  },
  {
   "cell_type": "code",
   "execution_count": 2,
   "id": "cf953a67",
   "metadata": {},
   "outputs": [],
   "source": [
    "img = cv2.imread('C:\\\\python\\\\qamar.JPG')"
   ]
  },
  {
   "cell_type": "code",
   "execution_count": 3,
   "id": "f4b38419",
   "metadata": {},
   "outputs": [],
   "source": [
    "gray_image = cv2.cvtColor(img, cv2.COLOR_BGR2BGRA)"
   ]
  },
  {
   "cell_type": "code",
   "execution_count": 4,
   "id": "9ca4900e",
   "metadata": {},
   "outputs": [],
   "source": [
    "invrt_img = 255 - gray_image"
   ]
  },
  {
   "cell_type": "code",
   "execution_count": 6,
   "id": "f20a87fb",
   "metadata": {},
   "outputs": [],
   "source": [
    "blurd_image = cv2.GaussianBlur(invrt_img, (21,21), 0)"
   ]
  },
  {
   "cell_type": "code",
   "execution_count": 10,
   "id": "2d790870",
   "metadata": {},
   "outputs": [],
   "source": [
    "sketch_img = cv2.divide(gray_image, 255 - blurd_image, scale = 257)"
   ]
  },
  {
   "cell_type": "code",
   "execution_count": 11,
   "id": "88b9f1cb",
   "metadata": {},
   "outputs": [
    {
     "data": {
      "text/plain": [
       "True"
      ]
     },
     "execution_count": 11,
     "metadata": {},
     "output_type": "execute_result"
    }
   ],
   "source": [
    "cv2.imwrite('C:\\\\python\\\\new_1qamar.JPG', sketch_img)"
   ]
  },
  {
   "cell_type": "code",
   "execution_count": null,
   "id": "1f6849e7",
   "metadata": {},
   "outputs": [],
   "source": []
  }
 ],
 "metadata": {
  "kernelspec": {
   "display_name": "Python 3 (ipykernel)",
   "language": "python",
   "name": "python3"
  },
  "language_info": {
   "codemirror_mode": {
    "name": "ipython",
    "version": 3
   },
   "file_extension": ".py",
   "mimetype": "text/x-python",
   "name": "python",
   "nbconvert_exporter": "python",
   "pygments_lexer": "ipython3",
   "version": "3.9.13"
  }
 },
 "nbformat": 4,
 "nbformat_minor": 5
}
