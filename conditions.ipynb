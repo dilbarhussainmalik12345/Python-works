{
 "cells": [
  {
   "cell_type": "code",
   "execution_count": 2,
   "id": "ba22a8e3",
   "metadata": {},
   "outputs": [
    {
     "name": "stdout",
     "output_type": "stream",
     "text": [
      "Number is negative\n"
     ]
    }
   ],
   "source": [
    "#Nested if statement\n",
    "number = -5\n",
    "\n",
    "if(number >= 0):\n",
    "    print(\"Number is Positive\")\n",
    "    \n",
    "    if number == 0:\n",
    "        print(\"Number is zero\")\n",
    "        \n",
    "else:\n",
    "    print(\"Number is negative\")\n",
    "    \n",
    "#pass\n",
    "#Break\n",
    "#continue are statements"
   ]
  },
  {
   "cell_type": "code",
   "execution_count": null,
   "id": "b6efc138",
   "metadata": {},
   "outputs": [],
   "source": []
  }
 ],
 "metadata": {
  "kernelspec": {
   "display_name": "Python 3 (ipykernel)",
   "language": "python",
   "name": "python3"
  },
  "language_info": {
   "codemirror_mode": {
    "name": "ipython",
    "version": 3
   },
   "file_extension": ".py",
   "mimetype": "text/x-python",
   "name": "python",
   "nbconvert_exporter": "python",
   "pygments_lexer": "ipython3",
   "version": "3.9.12"
  }
 },
 "nbformat": 4,
 "nbformat_minor": 5
}
