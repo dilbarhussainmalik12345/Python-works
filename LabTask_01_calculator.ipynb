{
 "cells": [
  {
   "cell_type": "code",
   "execution_count": 1,
   "id": "40cc0764",
   "metadata": {},
   "outputs": [
    {
     "name": "stdout",
     "output_type": "stream",
     "text": [
      "Please Enter Number 12\n",
      "Please Enter Another Number 2\n",
      "Sum =  14\n",
      "Multipy =  24\n",
      "Division =  6.0\n",
      "Subtract =  10\n"
     ]
    }
   ],
   "source": [
    "#Simple Calculation\n",
    "val= int(input(\"Please Enter Number \"))\n",
    "num = int(input(\"Please Enter Another Number \"))\n",
    "\n",
    "sam_1 = val + num\n",
    "mul = val*num\n",
    "divide = val/num\n",
    "sub = val-num\n",
    "print(\"Sum = \", sam_1)\n",
    "print(\"Multipy = \", mul)\n",
    "print(\"Division = \", divide)\n",
    "print(\"Subtract = \", sub)"
   ]
  },
  {
   "cell_type": "code",
   "execution_count": null,
   "id": "dfbc6f87",
   "metadata": {},
   "outputs": [],
   "source": []
  }
 ],
 "metadata": {
  "kernelspec": {
   "display_name": "Python 3 (ipykernel)",
   "language": "python",
   "name": "python3"
  },
  "language_info": {
   "codemirror_mode": {
    "name": "ipython",
    "version": 3
   },
   "file_extension": ".py",
   "mimetype": "text/x-python",
   "name": "python",
   "nbconvert_exporter": "python",
   "pygments_lexer": "ipython3",
   "version": "3.9.12"
  }
 },
 "nbformat": 4,
 "nbformat_minor": 5
}
