{
 "cells": [
  {
   "cell_type": "code",
   "execution_count": 11,
   "id": "cb471e20",
   "metadata": {},
   "outputs": [
    {
     "name": "stdout",
     "output_type": "stream",
     "text": [
      "Enter Name Dilbar\n"
     ]
    }
   ],
   "source": [
    "val = input(\"Enter Name \")\n"
   ]
  },
  {
   "cell_type": "code",
   "execution_count": 12,
   "id": "f659e312",
   "metadata": {},
   "outputs": [
    {
     "data": {
      "text/plain": [
       "'DILBAR'"
      ]
     },
     "execution_count": 12,
     "metadata": {},
     "output_type": "execute_result"
    }
   ],
   "source": [
    "val.upper()"
   ]
  },
  {
   "cell_type": "code",
   "execution_count": 13,
   "id": "8d606b5e",
   "metadata": {},
   "outputs": [
    {
     "data": {
      "text/plain": [
       "'dilbar'"
      ]
     },
     "execution_count": 13,
     "metadata": {},
     "output_type": "execute_result"
    }
   ],
   "source": [
    "val.lower()"
   ]
  },
  {
   "cell_type": "code",
   "execution_count": 14,
   "id": "f93d3c4d",
   "metadata": {},
   "outputs": [
    {
     "data": {
      "text/plain": [
       "'Ahmed'"
      ]
     },
     "execution_count": 14,
     "metadata": {},
     "output_type": "execute_result"
    }
   ],
   "source": [
    "val.replace(val, \"Ahmed\")"
   ]
  },
  {
   "cell_type": "code",
   "execution_count": null,
   "id": "f48e0e12",
   "metadata": {},
   "outputs": [],
   "source": []
  }
 ],
 "metadata": {
  "kernelspec": {
   "display_name": "Python 3 (ipykernel)",
   "language": "python",
   "name": "python3"
  },
  "language_info": {
   "codemirror_mode": {
    "name": "ipython",
    "version": 3
   },
   "file_extension": ".py",
   "mimetype": "text/x-python",
   "name": "python",
   "nbconvert_exporter": "python",
   "pygments_lexer": "ipython3",
   "version": "3.9.12"
  }
 },
 "nbformat": 4,
 "nbformat_minor": 5
}
